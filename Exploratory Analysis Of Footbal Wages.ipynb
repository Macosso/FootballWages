import matplotlib.pyplot as plt
from datetime import datetime
from bs4 import BeautifulSoup as BS
import pandas as pd
import re
import requests
import os
os.chdir("G:\\My Drive\\Freelancing\\Web Scraping")  # set the directory if you'll need to save files
import lxml

from ScrapePlayersWages import Scrape_Wage

leagues = ["La_Liga", "Premier_League", 
           "Seria_A", "Budesliga", "Ligue_1"]
LeaguesDict = {}
for i in leagues:
    LeaguesDict[i] = Scrape_Wage(i)
    LeaguesDict[i] = LeaguesDict[i].sort_values('Weekly Wage',
                                                ascending = False)
    LeaguesDict[i] = LeaguesDict[i].groupby("Team").nth([i for i in range(11)]
                                                        ).reset_index()[['Player Name',
                                                                         'Weekly Wage',
                                                                         'Age', 'Team']]
    LeaguesDict[i] = LeaguesDict[i].groupby("Team")['Weekly Wage'].agg(['mean']).reset_index()
    
    LeaguesDict[i] = LeaguesDict[i].sort_values('mean', ascending = False).reset_index(drop=True)
    LeaguesDict[i] = LeaguesDict[i].set_index("Team")
    


for j in leagues:
    print("")
    print(j)
    print(LeaguesDict[j])
    print("")

plt.rcParams.update({'figure.figsize':(15,14), 'figure.dpi':120})
fig, axes = plt.subplots(3, 2)


# Original Series
axes[0, 0].plot(LeaguesDict["La_Liga"], kind = "bar"); axes[0, 0].set_title('Average Wage of the top 10 Earners of the Team')
plt.setp(axes[0, 0].xaxis.get_majorticklabels(), rotation=15)

plot_acf(wb_df_ts, ax=axes[0, 1]); ax=axes[0, 1].set_title('ACF')

# 1st Differencing
axes[1, 0].plot(wb_df_ts.diff()); axes[1, 0].set_title('1st Order Differencing')
plt.setp(axes[1, 0].xaxis.get_majorticklabels(), rotation=15)
plot_acf(wb_df_ts.diff().dropna(), ax=axes[1, 1]); ax=axes[1, 1].set_title('ACF')

# 2nd Differencing
axes[2, 0].plot(wb_df_ts.diff().diff()); axes[2, 0].set_title('2nd Order Differencing')
plt.setp(axes[2, 0].xaxis.get_majorticklabels(), rotation=15)
plot_acf(wb_df_ts.diff().diff().dropna(), ax=axes[2, 1]); ax=axes[2, 1].set_title('ACF')

plt.show()
